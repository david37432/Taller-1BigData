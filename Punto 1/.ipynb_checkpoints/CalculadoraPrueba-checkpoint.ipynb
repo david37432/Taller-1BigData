{
 "cells": [
  {
   "cell_type": "code",
   "execution_count": 1,
   "id": "c9874f65-f34a-4aad-bd62-bf5623a607ea",
   "metadata": {},
   "outputs": [],
   "source": [
    "import sys\n",
    "import os\n",
    "import math\n",
    "\n",
    "# Agregar la carpeta que contiene tu archivo al path\n",
    "sys.path.append(r\"C:\\Users\\jerez\\BigData\\Clase1\\mini-library\")\n",
    "\n",
    "# Ahora sí puedes importar por el nombre del archivo (sin .py)\n",
    "from Calculadora import CalculadoraCientifica\n"
   ]
  },
  {
   "cell_type": "code",
   "execution_count": 2,
   "id": "a0312020-f254-4a54-8d47-87b7bb8298a5",
   "metadata": {},
   "outputs": [
    {
     "name": "stdout",
     "output_type": "stream",
     "text": [
      "C:\\Users\\jerez\\BigData\\Clase1\n"
     ]
    }
   ],
   "source": [
    "# Get the current working directory (if needed)\n",
    "print(os.getcwd())"
   ]
  },
  {
   "cell_type": "code",
   "execution_count": 3,
   "id": "95bce3b9-c1d8-476c-aa86-eff68a9c0095",
   "metadata": {},
   "outputs": [
    {
     "name": "stdout",
     "output_type": "stream",
     "text": [
      "3.12 + 6.0\n"
     ]
    }
   ],
   "source": [
    "calc=CalculadoraCientifica(3.12,6.0,'+')\n",
    "print(calc)"
   ]
  },
  {
   "cell_type": "code",
   "execution_count": 4,
   "id": "24c77b2d-64ee-410f-a8d9-c3f27362fe86",
   "metadata": {},
   "outputs": [
    {
     "name": "stdout",
     "output_type": "stream",
     "text": [
      "10\n"
     ]
    }
   ],
   "source": [
    "calc.suma(5,5)\n",
    "print(calc.resultado)"
   ]
  },
  {
   "cell_type": "code",
   "execution_count": 5,
   "id": "1f2b76c6-82f0-41af-a6de-ee7eaef4e802",
   "metadata": {},
   "outputs": [
    {
     "name": "stdout",
     "output_type": "stream",
     "text": [
      "10 +5 = 10\n"
     ]
    }
   ],
   "source": [
    "print(calc)"
   ]
  },
  {
   "cell_type": "code",
   "execution_count": 6,
   "id": "69ad1494-cda8-446d-8feb-c618f39ffa79",
   "metadata": {},
   "outputs": [
    {
     "name": "stdout",
     "output_type": "stream",
     "text": [
      "8 +3 = 8\n"
     ]
    }
   ],
   "source": [
    "#Punto 1\n",
    "calc = CalculadoraCientifica(5, 3, '+')\n",
    "print(calc.suma())             \n"
   ]
  },
  {
   "cell_type": "code",
   "execution_count": 7,
   "id": "1e837ea6-f010-4fe7-91c8-97f2a2a1b667",
   "metadata": {},
   "outputs": [
    {
     "name": "stdout",
     "output_type": "stream",
     "text": [
      "20 *2 = 20\n",
      "20 *2 = 20\n"
     ]
    }
   ],
   "source": [
    "#Punto 2\n",
    "calc = CalculadoraCientifica(10, 2)\n",
    "print(calc.multiplicacion())\n",
    "print(calc)\n"
   ]
  },
  {
   "cell_type": "code",
   "execution_count": 8,
   "id": "560a0c60-25c2-44b3-8e15-969b7ec4f09b",
   "metadata": {},
   "outputs": [
    {
     "name": "stdout",
     "output_type": "stream",
     "text": [
      "Calculadora en espera\n",
      "20 *2 = 20\n",
      "20 *2 = 20\n"
     ]
    }
   ],
   "source": [
    "#Punto 3\n",
    "calc = CalculadoraCientifica(10, 2)\n",
    "print(calc)\n",
    "print(calc.multiplicacion())\n",
    "print(calc)\n"
   ]
  },
  {
   "cell_type": "code",
   "execution_count": 9,
   "id": "e906cb47-2d8d-45dc-bfe8-c673886d9316",
   "metadata": {},
   "outputs": [
    {
     "name": "stdout",
     "output_type": "stream",
     "text": [
      "9\n",
      "3 ^ 20 = 9\n",
      "4.0\n",
      "16 √ = 4.0\n"
     ]
    }
   ],
   "source": [
    "#Punto 4\n",
    "c1 = CalculadoraCientifica(3)\n",
    "print(c1.potencia(2))\n",
    "print(c1)\n",
    "\n",
    "c2 = CalculadoraCientifica(16)\n",
    "print(c2.raiz_cuadrada())\n",
    "print(c2)\n"
   ]
  },
  {
   "cell_type": "code",
   "execution_count": 10,
   "id": "db7c1dff-f691-4b5f-a4b8-4c07215cd5b2",
   "metadata": {},
   "outputs": [
    {
     "name": "stdout",
     "output_type": "stream",
     "text": [
      "30\n"
     ]
    }
   ],
   "source": [
    "#Punto 5\n",
    "calc = CalculadoraCientifica(10)\n",
    "result = calc.suma(5).multiplicacion(2)\n",
    "print(result.operando1) \n"
   ]
  },
  {
   "cell_type": "code",
   "execution_count": 11,
   "id": "2f22da3d-6526-495a-aee7-9be3f17dea61",
   "metadata": {},
   "outputs": [
    {
     "name": "stdout",
     "output_type": "stream",
     "text": [
      "1.0\n",
      "6.123233995736766e-17\n",
      "1.633123935319537e+16\n"
     ]
    }
   ],
   "source": [
    "#Punto 6\n",
    "calc = CalculadoraCientifica()\n",
    "calc.operando1 = math.pi / 2\n",
    "print(calc.seno())                # Espera: 1.0\n",
    "print(calc.coseno())              # Espera: cercano a 0\n",
    "print(calc.tangente())            # Espera: grande (muy grande si está cerca de π/2)"
   ]
  },
  {
   "cell_type": "code",
   "execution_count": 12,
   "id": "51f3c28c-8e9c-4f09-ac86-4cd750550adc",
   "metadata": {},
   "outputs": [
    {
     "name": "stdout",
     "output_type": "stream",
     "text": [
      "---- PRUEBAS DIVISIÓN POR CERO ----\n",
      "Error: No se puede dividir entre cero.\n",
      "None\n",
      "---- PRUEBAS NO NUMÉRICOS ----\n",
      "Error: Los operandos deben ser valores numéricos.\n",
      "None\n"
     ]
    }
   ],
   "source": [
    "#Punto 7\n",
    "calc = CalculadoraCientifica()\n",
    "print(\"---- PRUEBAS DIVISIÓN POR CERO ----\")\n",
    "print(calc.division(10, 0))\n",
    "print(\"---- PRUEBAS NO NUMÉRICOS ----\")\n",
    "print(calc.suma(\"a\", 2))"
   ]
  }
 ],
 "metadata": {
  "kernelspec": {
   "display_name": "Python 3 (ipykernel)",
   "language": "python",
   "name": "python3"
  },
  "language_info": {
   "codemirror_mode": {
    "name": "ipython",
    "version": 3
   },
   "file_extension": ".py",
   "mimetype": "text/x-python",
   "name": "python",
   "nbconvert_exporter": "python",
   "pygments_lexer": "ipython3",
   "version": "3.10.18"
  }
 },
 "nbformat": 4,
 "nbformat_minor": 5
}
