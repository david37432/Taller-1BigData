{
 "cells": [
  {
   "cell_type": "code",
   "execution_count": 1,
   "id": "c9874f65-f34a-4aad-bd62-bf5623a607ea",
   "metadata": {},
   "outputs": [],
   "source": [
    "import sys\n",
    "import os\n",
    "import math\n",
    "\n",
    "# Agregar la carpeta que contiene tu archivo al path\n",
    "sys.path.append(r\"C:\\Users\\Davd Lopez\\Documents\\Big Data\\Taller #1\\Punto 1\\mini_library\")\n",
    "import importlib\n",
    "import mini_library\n",
    "\n",
    "importlib.reload(mini_library)\n",
    "# Ahora sí puedes importar por el nombre del archivo (sin .py)\n",
    "from Calculadora import CalculadoraCientifica\n"
   ]
  },
  {
   "cell_type": "code",
   "execution_count": 2,
   "id": "a0312020-f254-4a54-8d47-87b7bb8298a5",
   "metadata": {},
   "outputs": [
    {
     "name": "stdout",
     "output_type": "stream",
     "text": [
      "c:\\Users\\Davd Lopez\\Documents\\Big Data\\Taller #1\\Punto 1\n"
     ]
    }
   ],
   "source": [
    "# Get the current working directory (if needed)\n",
    "print(os.getcwd())"
   ]
  },
  {
   "cell_type": "code",
   "execution_count": null,
   "id": "95bce3b9-c1d8-476c-aa86-eff68a9c0095",
   "metadata": {},
   "outputs": [
    {
     "name": "stdout",
     "output_type": "stream",
     "text": [
      "--------------------------------------------\n",
      "Suma\n",
      "3.12 + 6.0\n"
     ]
    }
   ],
   "source": [
    "print(\"--------------------------------------------\")\n",
    "print(\"Suma\")\n",
    "calc=CalculadoraCientifica(3.12,6.0,'+')\n",
    "print(calc)"
   ]
  },
  {
   "cell_type": "code",
   "execution_count": 4,
   "id": "24c77b2d-64ee-410f-a8d9-c3f27362fe86",
   "metadata": {},
   "outputs": [
    {
     "name": "stdout",
     "output_type": "stream",
     "text": [
      "10\n",
      "5 + 5 = 10\n"
     ]
    }
   ],
   "source": [
    "calc.suma(5,5)\n",
    "print(calc.resultado)\n",
    "print(calc)"
   ]
  },
  {
   "cell_type": "code",
   "execution_count": 5,
   "id": "69ad1494-cda8-446d-8feb-c618f39ffa79",
   "metadata": {},
   "outputs": [
    {
     "name": "stdout",
     "output_type": "stream",
     "text": [
      "5 + 3 = 8\n"
     ]
    }
   ],
   "source": [
    "#Punto 1\n",
    "calc = CalculadoraCientifica(5, 3, '+')\n",
    "print(calc.suma())             \n"
   ]
  },
  {
   "cell_type": "code",
   "execution_count": null,
   "id": "1e837ea6-f010-4fe7-91c8-97f2a2a1b667",
   "metadata": {},
   "outputs": [
    {
     "name": "stdout",
     "output_type": "stream",
     "text": [
      "---------------------------------\n",
      "Multiplicación\n",
      "10 * 2 = 20\n",
      "10 * 2 = 20\n"
     ]
    }
   ],
   "source": [
    "#Punto 2\n",
    "print(\"---------------------------------\")\n",
    "print(\"Multiplicación\")\n",
    "calc = CalculadoraCientifica(10, 2)\n",
    "print(calc.multiplicacion())\n",
    "print(calc)\n"
   ]
  },
  {
   "cell_type": "code",
   "execution_count": 7,
   "id": "560a0c60-25c2-44b3-8e15-969b7ec4f09b",
   "metadata": {},
   "outputs": [
    {
     "name": "stdout",
     "output_type": "stream",
     "text": [
      "Calculadora en espera\n",
      "10 * 2 = 20\n",
      "10 * 2 = 20\n"
     ]
    }
   ],
   "source": [
    "#Punto 3\n",
    "calc = CalculadoraCientifica(10, 2)\n",
    "print(calc)\n",
    "print(calc.multiplicacion())\n",
    "print(calc)\n"
   ]
  },
  {
   "cell_type": "code",
   "execution_count": null,
   "id": "e906cb47-2d8d-45dc-bfe8-c673886d9316",
   "metadata": {},
   "outputs": [
    {
     "name": "stdout",
     "output_type": "stream",
     "text": [
      "9\n",
      "3 ^ 20 = 9\n",
      "4.0\n",
      "16 √ = 4.0\n"
     ]
    }
   ],
   "source": [
    "#Punto 4\n",
    "print(\"---------------------------\")\n",
    "print(\"Raiz y potencia\")\n",
    "c1 = CalculadoraCientifica(3)\n",
    "print(c1.potencia(2))\n",
    "print(c1)\n",
    "\n",
    "c2 = CalculadoraCientifica(16)\n",
    "print(c2.raiz_cuadrada())\n",
    "print(c2)\n"
   ]
  },
  {
   "cell_type": "code",
   "execution_count": 8,
   "id": "db7c1dff-f691-4b5f-a4b8-4c07215cd5b2",
   "metadata": {},
   "outputs": [
    {
     "name": "stdout",
     "output_type": "stream",
     "text": [
      "30\n",
      "15 * 2 = 30\n"
     ]
    }
   ],
   "source": [
    "#Punto 5\n",
    "calc = CalculadoraCientifica(10)\n",
    "result = calc.suma(5).multiplicacion(2)\n",
    "print(result.operando1) \n",
    "print(result)"
   ]
  },
  {
   "cell_type": "code",
   "execution_count": null,
   "id": "2f22da3d-6526-495a-aee7-9be3f17dea61",
   "metadata": {},
   "outputs": [
    {
     "name": "stdout",
     "output_type": "stream",
     "text": [
      "1.0\n",
      "6.123233995736766e-17\n",
      "1.633123935319537e+16\n"
     ]
    }
   ],
   "source": [
    "#Punto 6\n",
    "print(\"-------------------------\")\n",
    "print(\"Calculadora cientifica\")\n",
    "calc = CalculadoraCientifica()\n",
    "calc.operando1 = math.pi / 2\n",
    "print(calc.seno())                # Espera: 1.0\n",
    "print(calc.coseno())              # Espera: cercano a 0\n",
    "print(calc.tangente())            # Espera: grande (muy grande si está cerca de π/2)"
   ]
  },
  {
   "cell_type": "code",
   "execution_count": null,
   "id": "51f3c28c-8e9c-4f09-ac86-4cd750550adc",
   "metadata": {},
   "outputs": [
    {
     "name": "stdout",
     "output_type": "stream",
     "text": [
      "---- PRUEBAS DIVISIÓN POR CERO ----\n",
      "Error: No se puede dividir entre cero.\n",
      "None\n",
      "---- PRUEBAS NO NUMÉRICOS ----\n",
      "Error: Los operandos deben ser valores numéricos.\n",
      "None\n"
     ]
    }
   ],
   "source": [
    "#Punto 7\n",
    "print(\"----------------------------------\")\n",
    "print(\"Manejo de errores\")\n",
    "calc = CalculadoraCientifica()\n",
    "print(\"---- PRUEBAS DIVISIÓN POR CERO ----\")\n",
    "print(calc.division(10, 0))\n",
    "print(\"---- PRUEBAS NO NUMÉRICOS ----\")\n",
    "print(calc.suma(\"a\", 2))"
   ]
  },
  {
   "cell_type": "code",
   "execution_count": null,
   "id": "cb9c2fd6-c895-4ea5-8cb8-5fe5711b0376",
   "metadata": {},
   "outputs": [
    {
     "name": "stdout",
     "output_type": "stream",
     "text": [
      "=== Challenge 1 & 2 & 3 ===\n",
      "5 + 3 = 8\n",
      "5 - 3 = 8\n",
      "\n",
      "=== Challenge 4 ===\n",
      "3.0\n",
      "9.0\n",
      "\n",
      "=== Challenge 5 ===\n",
      "Resultado encadenado: 30\n",
      "\n",
      "=== Challenge 6 ===\n",
      "Seno: 1.0\n",
      "Coseno: 6.123233995736766e-17\n",
      "Tangente: 1.633123935319537e+16\n",
      "\n",
      "=== Challenge 7 (Errores) ===\n",
      "Error: Los operandos deben ser valores numéricos.\n"
     ]
    }
   ],
   "source": [
    "mini_library.pruebas()"
   ]
  },
  {
   "cell_type": "markdown",
   "id": "5e77fe98",
   "metadata": {},
   "source": [
    "##### __Workshop__:\n",
    "\n",
    "Challenge 1: Refactoring the Constructor\n",
    "The current __init__ method handles both attribute initialization and calculation logic. This violates the principle of a constructor, which should primarily set up the object's initial state.\n",
    "\n",
    "Task: Refactor the __init__ method so that it only initializes the operando1, operando2, and operacion attributes. Remove the conditional logic that performs a calculation upon object creation.\n",
    "\n",
    "Hint: The goal is for Calculadora(5, 3, '+') to create an object with operando1=5, operando2=3, and operacion='+', but it should not print 8 until a method is explicitly called.\n",
    "\n",
    "Challenge 2: Consistency in Operations\n",
    "The existing methods (suma, resta, multiplicacion, division) have an inconsistent behavior. The resta method sets the self.operacion attribute, but the others do not. This can lead to bugs, especially with the __str__ method.\n",
    "\n",
    "Task: Modify the suma, multiplicacion, and division methods so that they consistently set the self.operacion attribute to the appropriate symbol (+, *, /) before returning the result.\n",
    "\n",
    "Challenge 3: Improving the String Representation\n",
    "The __str__ method is useful for a human-readable representation of the object. However, if you create a Calculadora object without specifying an operation, calling print(my_calculator) will fail.\n",
    "\n",
    "Task: Modify the __str__ method to handle cases where no operation has been performed yet. If self.operacion is None, the method should return a more descriptive message, such as \"Calculadora en espera\". Otherwise, it should return the current string representation.\n",
    "\n",
    "Challenge 4: Handling Single-Operand Operations\n",
    "Many calculators have functions that operate on a single number, such as squaring a number or finding its square root.\n",
    "\n",
    "Task: Add a new method, potencia(self, exponente), that calculates self.operando1 to the power of exponente. The method should update self.operacion and store the result.\n",
    "\n",
    "Bonus: Add a raiz_cuadrada(self) method that calculates the square root of self.operando1. This method does not require a second operand. You will need to import the math module for this.\n",
    "\n",
    "Challenge 5: Method Chaining for Continuous Calculations\n",
    "Currently, to perform a series of calculations, you would need to create a new Calculadora object or manually update its operands. A more elegant solution is to allow method chaining, where each operation can be followed by another.\n",
    "\n",
    "Task: Modify the suma, resta, multiplicacion, and division methods to return the self object instead of the calculated result. The calculated result should be stored in self.operando1 so it can be used for the next operation.\n",
    "\n",
    "Example Usage: After this change, the following code should work:\n",
    "\n",
    "calc = Calculadora(10)\n",
    "result = calc.suma(5).multiplicacion(2)\n",
    "print(result.operando1) # Should print 30\n",
    "\n",
    "Challenge 6: Building a CalculadoraCientifica with Inheritance\n",
    "Inheritance is a fundamental concept in object-oriented programming. It allows us to create a new class that reuses the code from an existing one.\n",
    "\n",
    "Task: Create a new class named CalculadoraCientifica that inherits from Calculadora. This new class should be able to perform all the basic operations of its parent class, but it should also include a new method: seno(self). This method should calculate the sine of self.operando1 (assuming it is in radians) and store the result.\n",
    "\n",
    "Bonus: Add methods for coseno(self) and tangente(self).\n",
    "\n",
    "Challenge 7: Robust Error Handling\n",
    "The current code only handles ZeroDivisionError. What if a user tries to perform a calculation with non-numeric inputs, like strings?\n",
    "\n",
    "Task: Wrap the calculation logic within each of the core methods (suma, resta, multiplicacion, division) with a try...except block. Catch a TypeError and, in case of an error, print a message explaining that the operands must be numeric and return None.\n",
    "\n",
    "Hint: The try...except block should be placed around the line where the actual calculation happens, e.g., return self.operando1 + self.operando2.\n"
   ]
  }
 ],
 "metadata": {
  "kernelspec": {
   "display_name": "bigdata",
   "language": "python",
   "name": "python3"
  },
  "language_info": {
   "codemirror_mode": {
    "name": "ipython",
    "version": 3
   },
   "file_extension": ".py",
   "mimetype": "text/x-python",
   "name": "python",
   "nbconvert_exporter": "python",
   "pygments_lexer": "ipython3",
   "version": "3.12.11"
  }
 },
 "nbformat": 4,
 "nbformat_minor": 5
}
